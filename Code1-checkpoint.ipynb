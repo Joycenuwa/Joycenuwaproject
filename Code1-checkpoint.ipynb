{
 "cells": [
  {
   "cell_type": "code",
   "execution_count": 1,
   "id": "4bf45b37",
   "metadata": {},
   "outputs": [
    {
     "name": "stdout",
     "output_type": "stream",
     "text": [
      "Requirement already satisfied: opencv-python in c:\\users\\admin8\\anaconda3i\\lib\\site-packages (4.8.0.76)\n",
      "Requirement already satisfied: numpy>=1.19.3 in c:\\users\\admin8\\anaconda3i\\lib\\site-packages (from opencv-python) (1.23.5)\n",
      "Note: you may need to restart the kernel to use updated packages.\n"
     ]
    }
   ],
   "source": [
    "pip install opencv-python\n"
   ]
  },
  {
   "cell_type": "code",
   "execution_count": 2,
   "id": "bd4d253c",
   "metadata": {},
   "outputs": [
    {
     "name": "stdout",
     "output_type": "stream",
     "text": [
      "The number of classes in the dataset is: 5\n",
      "            CLASS               IMAGE COUNT \n",
      "           Doubtful                1046     \n",
      "           Healthy                 2286     \n",
      "           Minimal                 1516     \n",
      "           Moderate                 757     \n",
      "            Severe                  173     \n",
      "Healthy has the most images = 2286\n",
      "Severe has the least images = 173\n",
      "Average height = 224 , Average width = 224 , Aspect ratio = 1.0\n"
     ]
    }
   ],
   "source": [
    "# Notebook 1: Data Loading and Preparation\n",
    "\n",
    "import os\n",
    "import pandas as pd\n",
    "import matplotlib.pyplot as plt\n",
    "from sklearn.model_selection import train_test_split\n",
    "\n",
    "# Define the paths and classes\n",
    "train_path = r\"C:\\Users\\Admin8\\Desktop\\NTU\\Project\\kneedataset\\train\"\n",
    "test_path = r\"C:\\Users\\Admin8\\Desktop\\NTU\\Project\\kneedataset\\test\"\n",
    "valid_path = r\"C:\\Users\\Admin8\\Desktop\\NTU\\Project\\kneedataset\\val\"\n",
    "list_of_classes = ['Healthy', 'Doubtful', 'Minimal', 'Moderate', 'Severe']\n",
    "\n",
    "# Load and organize the dataset\n",
    "for d in [train_path, test_path, valid_path]:\n",
    "    filepaths = []\n",
    "    labels = []\n",
    "    classlist = os.listdir(d)\n",
    "    \n",
    "    for klass in classlist:\n",
    "        intklass = int(klass)\n",
    "        label = list_of_classes[intklass]\n",
    "        classpath = os.path.join(d, klass)\n",
    "        flist = os.listdir(classpath)\n",
    "        \n",
    "        for f in flist:\n",
    "            fpath = os.path.join(classpath, f)\n",
    "            filepaths.append(fpath)\n",
    "            labels.append(label)\n",
    "    \n",
    "    Fseries = pd.Series(filepaths, name='filepaths')\n",
    "    Lseries = pd.Series(labels, name='labels')\n",
    "    pdf = pd.concat([Fseries, Lseries], axis=1)\n",
    "    \n",
    "    if d == test_path:\n",
    "        test_df = pdf\n",
    "    elif d == valid_path:\n",
    "        valid_df = pdf\n",
    "    else:\n",
    "        train_df = pdf\n",
    "  # Display class distribution and analyze images\n",
    "print('The number of classes in the dataset is:', len(list_of_classes))\n",
    "\n",
    "groups = train_df.groupby('labels')\n",
    "print('{0:^30s} {1:^13s}'.format('CLASS', 'IMAGE COUNT'))\n",
    "countlist = []\n",
    "classlist = []\n",
    " # Calculate and display the image count for each class\n",
    "for label in sorted(list(train_df['labels'].unique())):\n",
    "    group = groups.get_group(label)\n",
    "    countlist.append(len(group))\n",
    "    classlist.append(label)\n",
    "    print('{0:^30s} {1:^13d}'.format(label, len(group)))  \n",
    "\n",
    "# Find the classes with the maximum and minimum number of train images\n",
    "max_value = max(countlist)\n",
    "max_index = countlist.index(max_value)\n",
    "max_class = classlist[max_index]\n",
    "min_value = min(countlist)\n",
    "min_index = countlist.index(min_value)\n",
    "min_class = classlist[min_index]\n",
    "\n",
    "print(max_class, 'has the most images =', max_value)\n",
    "print(min_class, 'has the least images =', min_value)\n",
    "\n",
    "# Calculate the average height and width of a sample of the train images\n",
    "total_height = 0\n",
    "total_width = 0\n",
    "num_samples = 100  # Number of samples to analyze\n",
    "\n",
    "# Select a random sample of train_df for analysis\n",
    "train_df_sample = train_df.sample(n=num_samples, random_state=123, axis=0)\n",
    "\n",
    "for i in range(len(train_df_sample)):\n",
    "    fpath = train_df_sample['filepaths'].iloc[i]\n",
    "    img = plt.imread(fpath)\n",
    "    shape = img.shape\n",
    "    total_height += shape[0]\n",
    "    total_width += shape[1]\n",
    "\n",
    "average_height = total_height // num_samples\n",
    "average_width = total_width // num_samples\n",
    "aspect_ratio = total_height / total_width\n",
    "\n",
    "print('Average height =', average_height, ', Average width =', average_width, ', Aspect ratio =', aspect_ratio)\n",
    "\n",
    "\n",
    "# Perform train-validation-test split on image filepaths and labels\n",
    "# Save train_df, valid_df, test_df as pandas DataFrames\n"
   ]
  },
  {
   "cell_type": "code",
   "execution_count": 3,
   "id": "c710b708",
   "metadata": {},
   "outputs": [],
   "source": [
    "# Combine train_df and valid_df for initial split\n",
    "train_valid_df = pd.concat([train_df, valid_df], ignore_index=True)\n",
    "\n",
    "# Perform initial train-validation split\n",
    "train_filepaths, valid_filepaths, train_labels, valid_labels = train_test_split(\n",
    "    train_valid_df['filepaths'], train_valid_df['labels'], test_size=0.2, random_state=123\n",
    ")\n",
    "\n",
    "# Further split the test_df for validation and test sets\n",
    "valid_filepaths, test_filepaths, valid_labels, test_labels = train_test_split(\n",
    "    test_df['filepaths'], test_df['labels'], test_size=0.5, random_state=123\n",
    ")\n"
   ]
  },
  {
   "cell_type": "code",
   "execution_count": 4,
   "id": "13e01ad4",
   "metadata": {},
   "outputs": [],
   "source": [
    "# Create new DataFrames for train, valid, and test sets\n",
    "train_split_df = pd.DataFrame({'filepaths': train_filepaths, 'labels': train_labels})\n",
    "valid_split_df = pd.DataFrame({'filepaths': valid_filepaths, 'labels': valid_labels})\n",
    "test_split_df = pd.DataFrame({'filepaths': test_filepaths, 'labels': test_labels})\n",
    "\n",
    "# Save the new DataFrames as CSV files\n",
    "train_split_df.to_csv('train_split_df.csv', index=False)\n",
    "valid_split_df.to_csv('valid_split_df.csv', index=False)\n",
    "test_split_df.to_csv('test_split_df.csv', index=False)\n"
   ]
  },
  {
   "cell_type": "code",
   "execution_count": null,
   "id": "b2fd558b",
   "metadata": {},
   "outputs": [],
   "source": []
  }
 ],
 "metadata": {
  "kernelspec": {
   "display_name": "Python 3 (ipykernel)",
   "language": "python",
   "name": "python3"
  },
  "language_info": {
   "codemirror_mode": {
    "name": "ipython",
    "version": 3
   },
   "file_extension": ".py",
   "mimetype": "text/x-python",
   "name": "python",
   "nbconvert_exporter": "python",
   "pygments_lexer": "ipython3",
   "version": "3.10.9"
  }
 },
 "nbformat": 4,
 "nbformat_minor": 5
}
